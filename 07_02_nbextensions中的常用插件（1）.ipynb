{
 "cells": [
  {
   "cell_type": "markdown",
   "metadata": {
    "toc": true
   },
   "source": [
    "<h1>我的目录<span class=\"tocSkip\"></span></h1>\n",
    "<div class=\"toc\"><ul class=\"toc-item\"><li><span><a href=\"#一级标题\" data-toc-modified-id=\"一级标题-1\"><span class=\"toc-item-num\">1&nbsp;&nbsp;</span>一级标题</a></span><ul class=\"toc-item\"><li><span><a href=\"#二级标题\" data-toc-modified-id=\"二级标题-1.1\"><span class=\"toc-item-num\">1.1&nbsp;&nbsp;</span>二级标题</a></span><ul class=\"toc-item\"><li><span><a href=\"#三级标题\" data-toc-modified-id=\"三级标题-1.1.1\"><span class=\"toc-item-num\">1.1.1&nbsp;&nbsp;</span>三级标题</a></span></li></ul></li><li><span><a href=\"#二级标题\" data-toc-modified-id=\"二级标题-1.2\"><span class=\"toc-item-num\">1.2&nbsp;&nbsp;</span>二级标题</a></span></li></ul></li></ul></div>"
   ]
  },
  {
   "cell_type": "code",
   "execution_count": null,
   "metadata": {
    "code_folding": [
     0
    ]
   },
   "outputs": [],
   "source": [
    "def do_sth():\n",
    "    print('xxx')\n",
    "\n",
    "do_sth()"
   ]
  },
  {
   "cell_type": "code",
   "execution_count": null,
   "metadata": {
    "code_folding": [
     0
    ]
   },
   "outputs": [],
   "source": [
    "class MyClass(object):\n",
    "\n",
    "    def do_sth():\n",
    "        print(\"xxx\")"
   ]
  },
  {
   "cell_type": "code",
   "execution_count": null,
   "metadata": {
    "code_folding": [
     0
    ]
   },
   "outputs": [],
   "source": [
    "# xxxxxxxxx\n",
    "print('aaa')\n",
    "print('bbb')"
   ]
  },
  {
   "cell_type": "markdown",
   "metadata": {},
   "source": [
    "# 一级标题"
   ]
  },
  {
   "cell_type": "markdown",
   "metadata": {},
   "source": [
    "## 二级标题"
   ]
  },
  {
   "cell_type": "code",
   "execution_count": null,
   "metadata": {},
   "outputs": [],
   "source": []
  },
  {
   "cell_type": "markdown",
   "metadata": {},
   "source": [
    "### 三级标题"
   ]
  },
  {
   "cell_type": "code",
   "execution_count": null,
   "metadata": {},
   "outputs": [],
   "source": []
  },
  {
   "cell_type": "markdown",
   "metadata": {},
   "source": [
    "## 二级标题"
   ]
  },
  {
   "cell_type": "code",
   "execution_count": null,
   "metadata": {},
   "outputs": [],
   "source": []
  }
 ],
 "metadata": {
  "kernelspec": {
   "display_name": "Python 3",
   "language": "python",
   "name": "python3"
  },
  "language_info": {
   "codemirror_mode": {
    "name": "ipython",
    "version": 3
   },
   "file_extension": ".py",
   "mimetype": "text/x-python",
   "name": "python",
   "nbconvert_exporter": "python",
   "pygments_lexer": "ipython3",
   "version": "3.7.5"
  },
  "nbTranslate": {
   "displayLangs": [
    "*"
   ],
   "hotkey": "alt-t",
   "langInMainMenu": true,
   "sourceLang": "en",
   "targetLang": "fr",
   "useGoogleTranslate": true
  },
  "toc": {
   "base_numbering": "1",
   "nav_menu": {
    "height": "159px",
    "width": "160px"
   },
   "number_sections": true,
   "sideBar": true,
   "skip_h1_title": false,
   "title_cell": "我的目录",
   "title_sidebar": "目录",
   "toc_cell": true,
   "toc_position": {
    "height": "270.5px",
    "left": "521px",
    "top": "211.5px",
    "width": "165px"
   },
   "toc_section_display": true,
   "toc_window_display": true
  }
 },
 "nbformat": 4,
 "nbformat_minor": 2
}
