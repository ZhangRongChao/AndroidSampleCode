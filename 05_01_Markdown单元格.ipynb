{
 "cells": [
  {
   "cell_type": "markdown",
   "metadata": {},
   "source": [
    "图解Python编程神器Jupyter Notebook"
   ]
  },
  {
   "cell_type": "markdown",
   "metadata": {},
   "source": [
    "*图解Python编程神器Jupyter Notebook*"
   ]
  },
  {
   "cell_type": "markdown",
   "metadata": {},
   "source": [
    "**图解Python编程神器Jupyter Notebook**"
   ]
  },
  {
   "cell_type": "markdown",
   "metadata": {},
   "source": [
    "~~图解Python编程神器Jupyter Notebook~~"
   ]
  },
  {
   "cell_type": "markdown",
   "metadata": {},
   "source": [
    "> 图解Python编程神器Jupyter Notebook"
   ]
  },
  {
   "cell_type": "markdown",
   "metadata": {},
   "source": [
    "第一段：图解Python编程神器Jupyter Notebook图解Python编程神器Jupyter Notebook图解Python编程神器Jupyter Notebook图解Python编程神器Jupyter Notebook图解Python编程神器Jupyter Notebook  \n",
    "第二段：图解Python编程神器Jupyter Notebook图解Python编程神器Jupyter Notebook图解Python编程神器Jupyter Notebook图解Python编程神器Jupyter Notebook图解Python编程神器Jupyter Notebook\n",
    "\n",
    "第三段：图解Python编程神器Jupyter Notebook图解Python编程神器Jupyter Notebook图解Python编程神器Jupyter Notebook图解Python编程神器Jupyter Notebook图解Python编程神器Jupyter Notebook"
   ]
  },
  {
   "cell_type": "markdown",
   "metadata": {},
   "source": [
    "# 一级标题\n",
    "## 二级标题\n",
    "### 三级标题\n",
    "#### 四级标题\n",
    "##### 五级标题\n",
    "###### 六级标题"
   ]
  },
  {
   "cell_type": "markdown",
   "metadata": {},
   "source": [
    "第一行\n",
    "***\n",
    "第二行"
   ]
  },
  {
   "cell_type": "markdown",
   "metadata": {},
   "source": [
    "第一行\n",
    "--   -\n",
    "第二行"
   ]
  },
  {
   "cell_type": "markdown",
   "metadata": {},
   "source": [
    "1. 有序列表项1\n",
    "2. 有序列表项2\n",
    "3. 有序列表项3"
   ]
  },
  {
   "cell_type": "markdown",
   "metadata": {},
   "source": [
    "+ 无序列表项1\n",
    "+ 无序列表项2\n",
    "+ 无序列表项3"
   ]
  },
  {
   "cell_type": "markdown",
   "metadata": {},
   "source": [
    "- 无序列表项1\n",
    "- 无序列表项2\n",
    "- 无序列表项3"
   ]
  },
  {
   "cell_type": "markdown",
   "metadata": {},
   "source": [
    "* 无序列表项1\n",
    "* 无序列表项2\n",
    "* 无序列表项3"
   ]
  },
  {
   "cell_type": "markdown",
   "metadata": {},
   "source": [
    "1. 有序列表项1\n",
    "    - 有序列表项1嵌套的无序列表项1\n",
    "    - 有序列表项1嵌套的无序列表项2\n",
    "2. 有序列表项2\n",
    "    - 有序列表项2嵌套的无序列表项1\n",
    "    - 有序列表项2嵌套的无序列表项2"
   ]
  },
  {
   "cell_type": "markdown",
   "metadata": {},
   "source": [
    "这是一句行内的代码：`print('hello')`"
   ]
  },
  {
   "cell_type": "markdown",
   "metadata": {},
   "source": [
    "```python\n",
    "for i in range(10):\n",
    "    print(i)\n",
    "```"
   ]
  },
  {
   "cell_type": "markdown",
   "metadata": {},
   "source": [
    "| 表头1 | 表头2 | 表头3 | 表头4 |\n",
    "| --- | --- | --- | --- |\n",
    "| a | b | c | d |\n",
    "| aa | bb | bb | dd |\n",
    "| aaaa | bbbb | cccc | dddd |\n",
    "| aaaaaa | bbbbbb | cccccc | dddddd |"
   ]
  },
  {
   "cell_type": "markdown",
   "metadata": {},
   "source": [
    "[图解Python](https://weibo.com/234133988)"
   ]
  },
  {
   "cell_type": "markdown",
   "metadata": {},
   "source": [
    "[https://weibo.com/234133988](https://weibo.com/234133988)  \n",
    "<https://weibo.com/234133988>"
   ]
  },
  {
   "cell_type": "markdown",
   "metadata": {},
   "source": [
    "[图解Python1][weibo_url]  \n",
    "[图解Python2][weibo_url]  \n",
    "[图解Python3][weibo_url]\n",
    "\n",
    "[weibo_url]:https://weibo.com/234133988"
   ]
  },
  {
   "cell_type": "markdown",
   "metadata": {},
   "source": [
    "行内公式：$c = \\sqrt{a^{2}+b^{2}}$"
   ]
  },
  {
   "cell_type": "markdown",
   "metadata": {},
   "source": [
    "$$c = \\sqrt{a^{2}+b^{2}}$$"
   ]
  },
  {
   "cell_type": "markdown",
   "metadata": {},
   "source": [
    "<u>图解Python</u>"
   ]
  },
  {
   "cell_type": "markdown",
   "metadata": {},
   "source": [
    "<a href=\"https://weibo.com/234133988\">图解Python</a>"
   ]
  },
  {
   "cell_type": "markdown",
   "metadata": {},
   "source": [
    "<font color='red'>图解Python</font>   \n",
    "<span style=\"color:red\">图解Python</span>"
   ]
  },
  {
   "attachments": {
    "%E5%9B%BE%E8%A7%A3Python.jpg": {
     "image/jpeg": "[encoded data removed]"
    }
   },
   "cell_type": "markdown",
   "metadata": {},
   "source": [
    "![%E5%9B%BE%E8%A7%A3Python.jpg](attachment:%E5%9B%BE%E8%A7%A3Python.jpg)"
   ]
  },
  {
   "cell_type": "markdown",
   "metadata": {},
   "source": [
    "![图解Python的logo](images/图解Python.jpg \"图解Python\")\n",
    "![图解Python的logo](https://wx1.sinaimg.cn/mw690/675f5cffgy1gegjnf34stj2050050gll.jpg \"图解Python\")"
   ]
  },
  {
   "cell_type": "markdown",
   "metadata": {},
   "source": [
    "<img src=\"images/图解Python.jpg\" style=\"width:150px;height:120px\">\n",
    "<img src=\"https://wx1.sinaimg.cn/mw690/675f5cffgy1gegjnf34stj2050050gll.jpg\" style=\"width:150px;height:120px\">"
   ]
  }
 ],
 "metadata": {
  "kernelspec": {
   "display_name": "Python 3",
   "language": "python",
   "name": "python3"
  },
  "language_info": {
   "codemirror_mode": {
    "name": "ipython",
    "version": 3
   },
   "file_extension": ".py",
   "mimetype": "text/x-python",
   "name": "python",
   "nbconvert_exporter": "python",
   "pygments_lexer": "ipython3",
   "version": "3.7.5"
  },
  "nbTranslate": {
   "displayLangs": [
    "*"
   ],
   "hotkey": "alt-t",
   "langInMainMenu": true,
   "sourceLang": "en",
   "targetLang": "fr",
   "useGoogleTranslate": true
  },
  "toc": {
   "base_numbering": 1,
   "nav_menu": {},
   "number_sections": true,
   "sideBar": true,
   "skip_h1_title": false,
   "title_cell": "Table of Contents",
   "title_sidebar": "Contents",
   "toc_cell": false,
   "toc_position": {},
   "toc_section_display": true,
   "toc_window_display": false
  }
 },
 "nbformat": 4,
 "nbformat_minor": 2
}
